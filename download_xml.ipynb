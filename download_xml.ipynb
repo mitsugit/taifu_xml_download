{
 "cells": [
  {
   "cell_type": "code",
   "execution_count": 1,
   "metadata": {},
   "outputs": [],
   "source": [
    "import requests"
   ]
  },
  {
   "cell_type": "code",
   "execution_count": 2,
   "metadata": {},
   "outputs": [],
   "source": [
    "from bs4 import BeautifulSoup"
   ]
  },
  {
   "cell_type": "code",
   "execution_count": 3,
   "metadata": {},
   "outputs": [],
   "source": [
    "url = \"https://www.gpvweather.com/jmaxml.php?k=%E5%8F%B0%E9%A2%A8%E8%A7%A3%E6%9E%90%E3%83%BB%E4%BA%88%E5%A0%B1%E6%83%85%E5%A0%B1%EF%BC%88%EF%BC%95%E6%97%A5%E4%BA%88%E5%A0%B1%EF%BC%89%EF%BC%88%EF%BC%A8%EF%BC%93%EF%BC%90%EF%BC%89&p=%E6%B0%97%E8%B1%A1%E5%BA%81&ym=2021-05\""
   ]
  },
  {
   "cell_type": "code",
   "execution_count": 4,
   "metadata": {},
   "outputs": [],
   "source": [
    "r = requests.get(url)"
   ]
  },
  {
   "cell_type": "code",
   "execution_count": 5,
   "metadata": {},
   "outputs": [
    {
     "data": {
      "text/plain": [
       "<Response [200]>"
      ]
     },
     "execution_count": 5,
     "metadata": {},
     "output_type": "execute_result"
    }
   ],
   "source": [
    "r"
   ]
  },
  {
   "cell_type": "code",
   "execution_count": 6,
   "metadata": {},
   "outputs": [],
   "source": [
    "soup = BeautifulSoup(r.content, \"html.parser\")"
   ]
  },
  {
   "cell_type": "code",
   "execution_count": 7,
   "metadata": {},
   "outputs": [],
   "source": [
    "elems = soup.find_all(\"div\", class_='page_item')"
   ]
  },
  {
   "cell_type": "code",
   "execution_count": 8,
   "metadata": {},
   "outputs": [],
   "source": [
    "base_url = \"https://www.gpvweather.com/\"\n",
    "for elem in elems:\n",
    "    test = elem.find(text=\"XML表示\").previous_element.get(\"href\")\n",
    "    test = test.replace(\"./\",base_url)\n",
    "    file_name = elem.text.split(\"気象庁\")[0].replace(\"\\xa0\",\"\").replace(\"/\",\"\").replace(\" \",\"\").replace(\":\",\"\")\n",
    "    response = requests.get(test)\n",
    "    file = open(f\"{file_name}.xml\",\"wb\")\n",
    "        #iter_content()メソッドでWebファイルのデータを渡す\n",
    "    for chunk in response.iter_content(100000):\n",
    "        #ファイル書込\n",
    "        file.write(chunk)\n",
    "        \n",
    "    #ファイルを閉じる\n",
    "    file.close()\n"
   ]
  },
  {
   "cell_type": "code",
   "execution_count": 9,
   "metadata": {},
   "outputs": [],
   "source": [
    "# elems[0].text.split(\"気象庁\")"
   ]
  },
  {
   "cell_type": "code",
   "execution_count": 10,
   "metadata": {},
   "outputs": [],
   "source": [
    "# elems[0].text.split(\"気象庁\")[0].replace(\"\\xa0\",\"\")"
   ]
  },
  {
   "cell_type": "code",
   "execution_count": 11,
   "metadata": {},
   "outputs": [],
   "source": [
    "# elems[0].text.split(\"気象庁\")[0].replace(\"\\xa0\",\"\").replace(\"/\",\"_\")"
   ]
  },
  {
   "cell_type": "code",
   "execution_count": 116,
   "metadata": {},
   "outputs": [
    {
     "data": {
      "text/plain": [
       "'202106010640'"
      ]
     },
     "execution_count": 116,
     "metadata": {},
     "output_type": "execute_result"
    }
   ],
   "source": [
    "file_name = elems[0].text.split(\"気象庁\")[0].replace(\"\\xa0\",\"\").replace(\"/\",\"\").replace(\" \",\"\").replace(\":\",\"\")"
   ]
  },
  {
   "cell_type": "code",
   "execution_count": 91,
   "metadata": {},
   "outputs": [
    {
     "data": {
      "text/plain": [
       "'https://www.gpvweather.com/jmaxml-view.php?k=%E5%8F%B0%E9%A2%A8%E8%A7%A3%E6%9E%90%E3%83%BB%E4%BA%88%E5%A0%B1%E6%83%85%E5%A0%B1%EF%BC%88%EF%BC%95%E6%97%A5%E4%BA%88%E5%A0%B1%EF%BC%89%EF%BC%88%EF%BC%A8%EF%BC%93%EF%BC%90%EF%BC%89&p=%E6%B0%97%E8%B1%A1%E5%BA%81&ym=2021-05&f=2021-05-31T21%3A36%3A39-20210531213640_0_VPTW60_010000.xml'"
      ]
     },
     "execution_count": 91,
     "metadata": {},
     "output_type": "execute_result"
    }
   ],
   "source": [
    "base_url + elem.split(\"/\")[1]"
   ]
  },
  {
   "cell_type": "code",
   "execution_count": 92,
   "metadata": {},
   "outputs": [],
   "source": [
    "elems = soup.find_all(text=\"XML表示\")"
   ]
  },
  {
   "cell_type": "code",
   "execution_count": 93,
   "metadata": {},
   "outputs": [
    {
     "ename": "NameError",
     "evalue": "name 'page_item' is not defined",
     "output_type": "error",
     "traceback": [
      "\u001b[1;31m---------------------------------------------------------------------------\u001b[0m",
      "\u001b[1;31mNameError\u001b[0m                                 Traceback (most recent call last)",
      "\u001b[1;32mC:\\Users\\Public\\Documents\\Wondershare\\CreatorTemp/ipykernel_1608/2644623765.py\u001b[0m in \u001b[0;36m<module>\u001b[1;34m\u001b[0m\n\u001b[1;32m----> 1\u001b[1;33m \u001b[0mpage_item\u001b[0m\u001b[1;33m\u001b[0m\u001b[1;33m\u001b[0m\u001b[0m\n\u001b[0m",
      "\u001b[1;31mNameError\u001b[0m: name 'page_item' is not defined"
     ]
    }
   ],
   "source": [
    "page_item"
   ]
  },
  {
   "cell_type": "code",
   "execution_count": null,
   "metadata": {},
   "outputs": [],
   "source": []
  }
 ],
 "metadata": {
  "kernelspec": {
   "display_name": "Python 3.8.10 64-bit",
   "language": "python",
   "name": "python3"
  },
  "language_info": {
   "codemirror_mode": {
    "name": "ipython",
    "version": 3
   },
   "file_extension": ".py",
   "mimetype": "text/x-python",
   "name": "python",
   "nbconvert_exporter": "python",
   "pygments_lexer": "ipython3",
   "version": "3.8.10"
  },
  "orig_nbformat": 4,
  "vscode": {
   "interpreter": {
    "hash": "59af10a4fbb6d3bc35cf84ded256b5d61e1eb9b225128c5371912b2ca83be13c"
   }
  }
 },
 "nbformat": 4,
 "nbformat_minor": 2
}
