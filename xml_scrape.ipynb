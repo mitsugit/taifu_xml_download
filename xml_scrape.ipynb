{
 "cells": [
  {
   "cell_type": "code",
   "execution_count": 33,
   "metadata": {},
   "outputs": [],
   "source": [
    "from bs4 import BeautifulSoup\n",
    "import pandas as pd"
   ]
  },
  {
   "cell_type": "code",
   "execution_count": 34,
   "metadata": {},
   "outputs": [],
   "source": [
    "with open(\"test.xml\") as doc:\n",
    "    soup = BeautifulSoup(doc, \"xml\") # 第2引数でパーサを指定"
   ]
  },
  {
   "cell_type": "code",
   "execution_count": 35,
   "metadata": {},
   "outputs": [],
   "source": [
    "MeteorologicalInfos = soup.find_all(\"MeteorologicalInfo\")"
   ]
  },
  {
   "cell_type": "code",
   "execution_count": 36,
   "metadata": {},
   "outputs": [
    {
     "data": {
      "text/plain": [
       "'予報２４時間後'"
      ]
     },
     "execution_count": 36,
     "metadata": {},
     "output_type": "execute_result"
    }
   ],
   "source": [
    "jikango = MeteorologicalInfos[1].find(\"DateTime\").get(\"type\").replace(\"\\u3000\",\"\")\n",
    "jikango"
   ]
  },
  {
   "cell_type": "code",
   "execution_count": 37,
   "metadata": {},
   "outputs": [
    {
     "data": {
      "text/plain": [
       "'+7.0+132.8'"
      ]
     },
     "execution_count": 37,
     "metadata": {},
     "output_type": "execute_result"
    }
   ],
   "source": [
    "yohouen_lon_lati = MeteorologicalInfos[1].find(attrs={ 'type': '中心位置（度）' }).text.replace(\"/\",\"\")\n",
    "yohouen_lon_lati"
   ]
  },
  {
   "cell_type": "code",
   "execution_count": 38,
   "metadata": {},
   "outputs": [],
   "source": [
    "yohou_jikan_list = []\n",
    "lon_lati_list = []\n",
    "for meteorological_info in MeteorologicalInfos:\n",
    "    jikango = meteorological_info.find(\"DateTime\").get(\"type\").replace(\"\\u3000\",\"\")\n",
    "    yohou_jikan_list.append(jikango)\n",
    "    yohouen_lon_lati = meteorological_info.find(attrs={ 'type': '中心位置（度）' }).text.replace(\"/\",\"\")\n",
    "    lon_lati_list.append(yohouen_lon_lati)"
   ]
  },
  {
   "cell_type": "code",
   "execution_count": 39,
   "metadata": {},
   "outputs": [],
   "source": [
    "event_id = soup.find(\"EventID\").text"
   ]
  },
  {
   "cell_type": "code",
   "execution_count": 40,
   "metadata": {},
   "outputs": [],
   "source": [
    "cols = []\n",
    "df = pd.DataFrame(index=[], columns=cols)"
   ]
  },
  {
   "cell_type": "code",
   "execution_count": 41,
   "metadata": {},
   "outputs": [],
   "source": [
    "df[\"予報時間\"] = yohou_jikan_list"
   ]
  },
  {
   "cell_type": "code",
   "execution_count": 42,
   "metadata": {},
   "outputs": [],
   "source": [
    "df[\"予報緯度経度\"] = lon_lati_list"
   ]
  },
  {
   "cell_type": "code",
   "execution_count": 43,
   "metadata": {},
   "outputs": [],
   "source": [
    "\n",
    "df[\"event_id\"] = event_id"
   ]
  },
  {
   "cell_type": "code",
   "execution_count": 44,
   "metadata": {},
   "outputs": [
    {
     "data": {
      "text/html": [
       "<div><div id=f31c4451-5165-4c0c-92a5-ca37d75715df style=\"display:none; background-color:#9D6CFF; color:white; width:200px; height:30px; padding-left:5px; border-radius:4px; flex-direction:row; justify-content:space-around; align-items:center;\" onmouseover=\"this.style.backgroundColor='#BA9BF8'\" onmouseout=\"this.style.backgroundColor='#9D6CFF'\" onclick=\"window.commands?.execute('create-mitosheet-from-dataframe-output');\">See Full Dataframe in Mito</div> <script> if (window.commands.hasCommand('create-mitosheet-from-dataframe-output')) document.getElementById('f31c4451-5165-4c0c-92a5-ca37d75715df').style.display = 'flex' </script> <table border=\"1\" class=\"dataframe\">\n",
       "  <thead>\n",
       "    <tr style=\"text-align: right;\">\n",
       "      <th></th>\n",
       "      <th>予報時間</th>\n",
       "      <th>予報緯度経度</th>\n",
       "      <th>event_id</th>\n",
       "    </tr>\n",
       "  </thead>\n",
       "  <tbody>\n",
       "    <tr>\n",
       "      <th>0</th>\n",
       "      <td>実況</td>\n",
       "      <td>+6.9+134.6</td>\n",
       "      <td>TC2101</td>\n",
       "    </tr>\n",
       "    <tr>\n",
       "      <th>1</th>\n",
       "      <td>予報２４時間後</td>\n",
       "      <td>+7.0+132.8</td>\n",
       "      <td>TC2101</td>\n",
       "    </tr>\n",
       "    <tr>\n",
       "      <th>2</th>\n",
       "      <td>予報４８時間後</td>\n",
       "      <td>+7.0+131.5</td>\n",
       "      <td>TC2101</td>\n",
       "    </tr>\n",
       "    <tr>\n",
       "      <th>3</th>\n",
       "      <td>予報７２時間後</td>\n",
       "      <td>+7.4+129.5</td>\n",
       "      <td>TC2101</td>\n",
       "    </tr>\n",
       "    <tr>\n",
       "      <th>4</th>\n",
       "      <td>予報９６時間後</td>\n",
       "      <td>+9.9+126.1</td>\n",
       "      <td>TC2101</td>\n",
       "    </tr>\n",
       "    <tr>\n",
       "      <th>5</th>\n",
       "      <td>予報１２０時間後</td>\n",
       "      <td>+11.0+120.8</td>\n",
       "      <td>TC2101</td>\n",
       "    </tr>\n",
       "  </tbody>\n",
       "</table></div>"
      ],
      "text/plain": [
       "       予報時間       予報緯度経度 event_id\n",
       "0        実況   +6.9+134.6   TC2101\n",
       "1   予報２４時間後   +7.0+132.8   TC2101\n",
       "2   予報４８時間後   +7.0+131.5   TC2101\n",
       "3   予報７２時間後   +7.4+129.5   TC2101\n",
       "4   予報９６時間後   +9.9+126.1   TC2101\n",
       "5  予報１２０時間後  +11.0+120.8   TC2101"
      ]
     },
     "execution_count": 44,
     "metadata": {},
     "output_type": "execute_result"
    }
   ],
   "source": [
    "df"
   ]
  },
  {
   "cell_type": "code",
   "execution_count": 45,
   "metadata": {},
   "outputs": [],
   "source": [
    "df[\"report_datetime\"] = soup.find(\"ReportDateTime\").text"
   ]
  },
  {
   "cell_type": "code",
   "execution_count": 46,
   "metadata": {},
   "outputs": [
    {
     "data": {
      "text/html": [
       "<div><div id=0460d457-a0df-453c-b40c-b37542c9bb7d style=\"display:none; background-color:#9D6CFF; color:white; width:200px; height:30px; padding-left:5px; border-radius:4px; flex-direction:row; justify-content:space-around; align-items:center;\" onmouseover=\"this.style.backgroundColor='#BA9BF8'\" onmouseout=\"this.style.backgroundColor='#9D6CFF'\" onclick=\"window.commands?.execute('create-mitosheet-from-dataframe-output');\">See Full Dataframe in Mito</div> <script> if (window.commands.hasCommand('create-mitosheet-from-dataframe-output')) document.getElementById('0460d457-a0df-453c-b40c-b37542c9bb7d').style.display = 'flex' </script> <table border=\"1\" class=\"dataframe\">\n",
       "  <thead>\n",
       "    <tr style=\"text-align: right;\">\n",
       "      <th></th>\n",
       "      <th>予報時間</th>\n",
       "      <th>予報緯度経度</th>\n",
       "      <th>event_id</th>\n",
       "      <th>report_datetime</th>\n",
       "    </tr>\n",
       "  </thead>\n",
       "  <tbody>\n",
       "    <tr>\n",
       "      <th>0</th>\n",
       "      <td>実況</td>\n",
       "      <td>+6.9+134.6</td>\n",
       "      <td>TC2101</td>\n",
       "      <td>2021-02-17T10:30:00+09:00</td>\n",
       "    </tr>\n",
       "    <tr>\n",
       "      <th>1</th>\n",
       "      <td>予報２４時間後</td>\n",
       "      <td>+7.0+132.8</td>\n",
       "      <td>TC2101</td>\n",
       "      <td>2021-02-17T10:30:00+09:00</td>\n",
       "    </tr>\n",
       "    <tr>\n",
       "      <th>2</th>\n",
       "      <td>予報４８時間後</td>\n",
       "      <td>+7.0+131.5</td>\n",
       "      <td>TC2101</td>\n",
       "      <td>2021-02-17T10:30:00+09:00</td>\n",
       "    </tr>\n",
       "    <tr>\n",
       "      <th>3</th>\n",
       "      <td>予報７２時間後</td>\n",
       "      <td>+7.4+129.5</td>\n",
       "      <td>TC2101</td>\n",
       "      <td>2021-02-17T10:30:00+09:00</td>\n",
       "    </tr>\n",
       "    <tr>\n",
       "      <th>4</th>\n",
       "      <td>予報９６時間後</td>\n",
       "      <td>+9.9+126.1</td>\n",
       "      <td>TC2101</td>\n",
       "      <td>2021-02-17T10:30:00+09:00</td>\n",
       "    </tr>\n",
       "    <tr>\n",
       "      <th>5</th>\n",
       "      <td>予報１２０時間後</td>\n",
       "      <td>+11.0+120.8</td>\n",
       "      <td>TC2101</td>\n",
       "      <td>2021-02-17T10:30:00+09:00</td>\n",
       "    </tr>\n",
       "  </tbody>\n",
       "</table></div>"
      ],
      "text/plain": [
       "       予報時間       予報緯度経度 event_id            report_datetime\n",
       "0        実況   +6.9+134.6   TC2101  2021-02-17T10:30:00+09:00\n",
       "1   予報２４時間後   +7.0+132.8   TC2101  2021-02-17T10:30:00+09:00\n",
       "2   予報４８時間後   +7.0+131.5   TC2101  2021-02-17T10:30:00+09:00\n",
       "3   予報７２時間後   +7.4+129.5   TC2101  2021-02-17T10:30:00+09:00\n",
       "4   予報９６時間後   +9.9+126.1   TC2101  2021-02-17T10:30:00+09:00\n",
       "5  予報１２０時間後  +11.0+120.8   TC2101  2021-02-17T10:30:00+09:00"
      ]
     },
     "execution_count": 46,
     "metadata": {},
     "output_type": "execute_result"
    }
   ],
   "source": [
    "df"
   ]
  },
  {
   "cell_type": "code",
   "execution_count": 47,
   "metadata": {},
   "outputs": [],
   "source": [
    "df2 = df.copy()"
   ]
  },
  {
   "cell_type": "code",
   "execution_count": 48,
   "metadata": {},
   "outputs": [],
   "source": [
    "\n",
    "df2.event_id = \"TC2202\""
   ]
  },
  {
   "cell_type": "code",
   "execution_count": 51,
   "metadata": {},
   "outputs": [
    {
     "data": {
      "text/html": [
       "<div><div id=6462aebf-05f3-43e6-b6de-fb2d64086c65 style=\"display:none; background-color:#9D6CFF; color:white; width:200px; height:30px; padding-left:5px; border-radius:4px; flex-direction:row; justify-content:space-around; align-items:center;\" onmouseover=\"this.style.backgroundColor='#BA9BF8'\" onmouseout=\"this.style.backgroundColor='#9D6CFF'\" onclick=\"window.commands?.execute('create-mitosheet-from-dataframe-output');\">See Full Dataframe in Mito</div> <script> if (window.commands.hasCommand('create-mitosheet-from-dataframe-output')) document.getElementById('6462aebf-05f3-43e6-b6de-fb2d64086c65').style.display = 'flex' </script> <table border=\"1\" class=\"dataframe\">\n",
       "  <thead>\n",
       "    <tr style=\"text-align: right;\">\n",
       "      <th></th>\n",
       "      <th>予報時間</th>\n",
       "      <th>予報緯度経度</th>\n",
       "      <th>event_id</th>\n",
       "      <th>report_datetime</th>\n",
       "    </tr>\n",
       "  </thead>\n",
       "  <tbody>\n",
       "    <tr>\n",
       "      <th>0</th>\n",
       "      <td>実況</td>\n",
       "      <td>+6.9+134.6</td>\n",
       "      <td>TC2101</td>\n",
       "      <td>2021-02-17T10:30:00+09:00</td>\n",
       "    </tr>\n",
       "    <tr>\n",
       "      <th>1</th>\n",
       "      <td>予報２４時間後</td>\n",
       "      <td>+7.0+132.8</td>\n",
       "      <td>TC2101</td>\n",
       "      <td>2021-02-17T10:30:00+09:00</td>\n",
       "    </tr>\n",
       "    <tr>\n",
       "      <th>2</th>\n",
       "      <td>予報４８時間後</td>\n",
       "      <td>+7.0+131.5</td>\n",
       "      <td>TC2101</td>\n",
       "      <td>2021-02-17T10:30:00+09:00</td>\n",
       "    </tr>\n",
       "    <tr>\n",
       "      <th>3</th>\n",
       "      <td>予報７２時間後</td>\n",
       "      <td>+7.4+129.5</td>\n",
       "      <td>TC2101</td>\n",
       "      <td>2021-02-17T10:30:00+09:00</td>\n",
       "    </tr>\n",
       "    <tr>\n",
       "      <th>4</th>\n",
       "      <td>予報９６時間後</td>\n",
       "      <td>+9.9+126.1</td>\n",
       "      <td>TC2101</td>\n",
       "      <td>2021-02-17T10:30:00+09:00</td>\n",
       "    </tr>\n",
       "    <tr>\n",
       "      <th>...</th>\n",
       "      <td>...</td>\n",
       "      <td>...</td>\n",
       "      <td>...</td>\n",
       "      <td>...</td>\n",
       "    </tr>\n",
       "    <tr>\n",
       "      <th>1</th>\n",
       "      <td>予報２４時間後</td>\n",
       "      <td>+7.0+132.8</td>\n",
       "      <td>TC2202</td>\n",
       "      <td>2021-02-17T10:30:00+09:00</td>\n",
       "    </tr>\n",
       "    <tr>\n",
       "      <th>2</th>\n",
       "      <td>予報４８時間後</td>\n",
       "      <td>+7.0+131.5</td>\n",
       "      <td>TC2202</td>\n",
       "      <td>2021-02-17T10:30:00+09:00</td>\n",
       "    </tr>\n",
       "    <tr>\n",
       "      <th>3</th>\n",
       "      <td>予報７２時間後</td>\n",
       "      <td>+7.4+129.5</td>\n",
       "      <td>TC2202</td>\n",
       "      <td>2021-02-17T10:30:00+09:00</td>\n",
       "    </tr>\n",
       "    <tr>\n",
       "      <th>4</th>\n",
       "      <td>予報９６時間後</td>\n",
       "      <td>+9.9+126.1</td>\n",
       "      <td>TC2202</td>\n",
       "      <td>2021-02-17T10:30:00+09:00</td>\n",
       "    </tr>\n",
       "    <tr>\n",
       "      <th>5</th>\n",
       "      <td>予報１２０時間後</td>\n",
       "      <td>+11.0+120.8</td>\n",
       "      <td>TC2202</td>\n",
       "      <td>2021-02-17T10:30:00+09:00</td>\n",
       "    </tr>\n",
       "  </tbody>\n",
       "</table></div>"
      ],
      "text/plain": [
       "       予報時間       予報緯度経度 event_id            report_datetime\n",
       "0        実況   +6.9+134.6   TC2101  2021-02-17T10:30:00+09:00\n",
       "1   予報２４時間後   +7.0+132.8   TC2101  2021-02-17T10:30:00+09:00\n",
       "2   予報４８時間後   +7.0+131.5   TC2101  2021-02-17T10:30:00+09:00\n",
       "3   予報７２時間後   +7.4+129.5   TC2101  2021-02-17T10:30:00+09:00\n",
       "4   予報９６時間後   +9.9+126.1   TC2101  2021-02-17T10:30:00+09:00\n",
       "5  予報１２０時間後  +11.0+120.8   TC2101  2021-02-17T10:30:00+09:00\n",
       "0        実況   +6.9+134.6   TC2202  2021-02-17T10:30:00+09:00\n",
       "1   予報２４時間後   +7.0+132.8   TC2202  2021-02-17T10:30:00+09:00\n",
       "2   予報４８時間後   +7.0+131.5   TC2202  2021-02-17T10:30:00+09:00\n",
       "3   予報７２時間後   +7.4+129.5   TC2202  2021-02-17T10:30:00+09:00\n",
       "4   予報９６時間後   +9.9+126.1   TC2202  2021-02-17T10:30:00+09:00\n",
       "5  予報１２０時間後  +11.0+120.8   TC2202  2021-02-17T10:30:00+09:00"
      ]
     },
     "execution_count": 51,
     "metadata": {},
     "output_type": "execute_result"
    }
   ],
   "source": [
    "pd.concat([df,df2])"
   ]
  },
  {
   "cell_type": "code",
   "execution_count": null,
   "metadata": {},
   "outputs": [],
   "source": []
  },
  {
   "cell_type": "code",
   "execution_count": null,
   "metadata": {},
   "outputs": [],
   "source": []
  }
 ],
 "metadata": {
  "kernelspec": {
   "display_name": "Python 3.8.10 64-bit",
   "language": "python",
   "name": "python3"
  },
  "language_info": {
   "codemirror_mode": {
    "name": "ipython",
    "version": 3
   },
   "file_extension": ".py",
   "mimetype": "text/x-python",
   "name": "python",
   "nbconvert_exporter": "python",
   "pygments_lexer": "ipython3",
   "version": "3.8.10"
  },
  "orig_nbformat": 4,
  "vscode": {
   "interpreter": {
    "hash": "59af10a4fbb6d3bc35cf84ded256b5d61e1eb9b225128c5371912b2ca83be13c"
   }
  }
 },
 "nbformat": 4,
 "nbformat_minor": 2
}
